{
 "cells": [
  {
   "cell_type": "code",
   "execution_count": 1,
   "metadata": {},
   "outputs": [
    {
     "data": {
      "text/plain": [
       "(1, 2, 3)"
      ]
     },
     "execution_count": 1,
     "metadata": {},
     "output_type": "execute_result"
    }
   ],
   "source": [
    "#tuple\n",
    "#tuple裡的值不可增減，儲存後就固定不動\n",
    "tuple = (1, 2, 3)\n",
    "tuple"
   ]
  },
  {
   "cell_type": "code",
   "execution_count": 2,
   "metadata": {},
   "outputs": [
    {
     "data": {
      "text/plain": [
       "tuple"
      ]
     },
     "execution_count": 2,
     "metadata": {},
     "output_type": "execute_result"
    }
   ],
   "source": [
    "type(tuple)"
   ]
  },
  {
   "cell_type": "code",
   "execution_count": 3,
   "metadata": {},
   "outputs": [
    {
     "data": {
      "text/plain": [
       "3"
      ]
     },
     "execution_count": 3,
     "metadata": {},
     "output_type": "execute_result"
    }
   ],
   "source": [
    "len(tuple)"
   ]
  },
  {
   "cell_type": "code",
   "execution_count": 4,
   "metadata": {},
   "outputs": [
    {
     "data": {
      "text/plain": [
       "['a', 'b', 'c', 'd']"
      ]
     },
     "execution_count": 4,
     "metadata": {},
     "output_type": "execute_result"
    }
   ],
   "source": [
    "#list(串列)\n",
    "list1 = [\"a\", \"b\", \"c\", \"d\"]\n",
    "list1"
   ]
  },
  {
   "cell_type": "code",
   "execution_count": 5,
   "metadata": {},
   "outputs": [
    {
     "data": {
      "text/plain": [
       "list"
      ]
     },
     "execution_count": 5,
     "metadata": {},
     "output_type": "execute_result"
    }
   ],
   "source": [
    "type(list1)"
   ]
  },
  {
   "cell_type": "code",
   "execution_count": 6,
   "metadata": {},
   "outputs": [
    {
     "data": {
      "text/plain": [
       "4"
      ]
     },
     "execution_count": 6,
     "metadata": {},
     "output_type": "execute_result"
    }
   ],
   "source": [
    "len(list1)"
   ]
  },
  {
   "cell_type": "code",
   "execution_count": 7,
   "metadata": {},
   "outputs": [
    {
     "data": {
      "text/plain": [
       "'a'"
      ]
     },
     "execution_count": 7,
     "metadata": {},
     "output_type": "execute_result"
    }
   ],
   "source": [
    "list1[0]"
   ]
  },
  {
   "cell_type": "code",
   "execution_count": 8,
   "metadata": {},
   "outputs": [
    {
     "name": "stdout",
     "output_type": "stream",
     "text": [
      "a\n",
      "d\n"
     ]
    }
   ],
   "source": [
    "print(list1[0])\n",
    "print(list1[3])"
   ]
  },
  {
   "cell_type": "code",
   "execution_count": 9,
   "metadata": {},
   "outputs": [
    {
     "name": "stdout",
     "output_type": "stream",
     "text": [
      "d\n",
      "a\n"
     ]
    }
   ],
   "source": [
    "print(list1[-1])\n",
    "print(list1[-4])"
   ]
  },
  {
   "cell_type": "code",
   "execution_count": 10,
   "metadata": {},
   "outputs": [
    {
     "name": "stdout",
     "output_type": "stream",
     "text": [
      "['a', 'b', 'c']\n",
      "[]\n"
     ]
    }
   ],
   "source": [
    "#slice(切片)只能有左到右\n",
    "print(list1[0:3])\n",
    "print(list1[3:0])"
   ]
  },
  {
   "cell_type": "code",
   "execution_count": 11,
   "metadata": {},
   "outputs": [
    {
     "name": "stdout",
     "output_type": "stream",
     "text": [
      "[]\n",
      "['a', 'b']\n"
     ]
    }
   ],
   "source": [
    "print(list1[-2:-4])\n",
    "print(list1[-4:-2])"
   ]
  },
  {
   "cell_type": "code",
   "execution_count": 12,
   "metadata": {},
   "outputs": [
    {
     "data": {
      "text/plain": [
       "['a', 3, 'c', 'd']"
      ]
     },
     "execution_count": 12,
     "metadata": {},
     "output_type": "execute_result"
    }
   ],
   "source": [
    "list1 = [\"a\", \"b\", \"c\", \"d\"]\n",
    "list1[1] = 3\n",
    "list1"
   ]
  },
  {
   "cell_type": "code",
   "execution_count": 13,
   "metadata": {},
   "outputs": [
    {
     "data": {
      "text/plain": [
       "['a', 3, 'c', 'd', 'e']"
      ]
     },
     "execution_count": 13,
     "metadata": {},
     "output_type": "execute_result"
    }
   ],
   "source": [
    "#加在最後面\n",
    "list1.append(\"e\")\n",
    "list1"
   ]
  },
  {
   "cell_type": "code",
   "execution_count": 14,
   "metadata": {},
   "outputs": [
    {
     "data": {
      "text/plain": [
       "['a', 3, 'c', 'g', 'd', 'e']"
      ]
     },
     "execution_count": 14,
     "metadata": {},
     "output_type": "execute_result"
    }
   ],
   "source": [
    "#指定位置增加\n",
    "list1.insert(3, \"g\")\n",
    "list1"
   ]
  },
  {
   "cell_type": "code",
   "execution_count": 15,
   "metadata": {},
   "outputs": [
    {
     "data": {
      "text/plain": [
       "['a', 3, 'c', 'g', 'e']"
      ]
     },
     "execution_count": 15,
     "metadata": {},
     "output_type": "execute_result"
    }
   ],
   "source": [
    "#指定值刪除\n",
    "list1.remove(\"d\")\n",
    "list1"
   ]
  },
  {
   "cell_type": "code",
   "execution_count": 16,
   "metadata": {},
   "outputs": [
    {
     "data": {
      "text/plain": [
       "['a', 3, 'g', 'e']"
      ]
     },
     "execution_count": 16,
     "metadata": {},
     "output_type": "execute_result"
    }
   ],
   "source": [
    "#指定位置刪除\n",
    "list1.pop(2)\n",
    "list1"
   ]
  },
  {
   "cell_type": "code",
   "execution_count": 17,
   "metadata": {},
   "outputs": [
    {
     "name": "stdout",
     "output_type": "stream",
     "text": [
      "True\n",
      "False\n"
     ]
    }
   ],
   "source": [
    "print('e' in list1)\n",
    "print('f' in list1)"
   ]
  },
  {
   "cell_type": "code",
   "execution_count": 18,
   "metadata": {},
   "outputs": [
    {
     "name": "stdout",
     "output_type": "stream",
     "text": [
      "i =  0 , list1[i] ['a', 'b', 'c', 'd']\n",
      "a\n",
      "i =  1 , list1[i] ['a', 'b', 'c', 'd']\n",
      "b\n",
      "i =  2 , list1[i] ['a', 'b', 'c', 'd']\n",
      "c\n",
      "i =  3 , list1[i] ['a', 'b', 'c', 'd']\n",
      "d\n"
     ]
    }
   ],
   "source": [
    "list1 = [\"a\", \"b\", \"c\", \"d\"]\n",
    "for i in range(0, len(list1)):\n",
    "    print('i = ', i, ', list1[i]', list1)\n",
    "    print(list1[i])"
   ]
  },
  {
   "cell_type": "code",
   "execution_count": 19,
   "metadata": {},
   "outputs": [
    {
     "name": "stdout",
     "output_type": "stream",
     "text": [
      "a\n",
      "b\n",
      "c\n",
      "d\n"
     ]
    }
   ],
   "source": [
    "list1 = [\"a\", \"b\", \"c\", \"d\"]\n",
    "for i in range(0, len(list1)):\n",
    "    #print('i = ', i, 'list[i]=', list[i])\n",
    "    print(list1[i])"
   ]
  },
  {
   "cell_type": "code",
   "execution_count": 20,
   "metadata": {},
   "outputs": [
    {
     "name": "stdout",
     "output_type": "stream",
     "text": [
      "a\n",
      "b\n",
      "c\n",
      "d\n"
     ]
    }
   ],
   "source": [
    "list1 = [\"a\", \"b\", \"c\", \"d\"]\n",
    "for i in list1:\n",
    "    print(i)"
   ]
  },
  {
   "cell_type": "code",
   "execution_count": 21,
   "metadata": {},
   "outputs": [
    {
     "name": "stdout",
     "output_type": "stream",
     "text": [
      "i =  a , list2= ['a']\n",
      "i =  b , list2= ['a', 'b']\n",
      "i =  c , list2= ['a', 'b', 'c']\n",
      "i =  d , list2= ['a', 'b', 'c', 'd']\n"
     ]
    },
    {
     "data": {
      "text/plain": [
       "['a', 'b', 'c', 'd']"
      ]
     },
     "execution_count": 21,
     "metadata": {},
     "output_type": "execute_result"
    }
   ],
   "source": [
    "list1 = [\"a\", \"b\", \"c\", \"d\"]\n",
    "\n",
    "list2 = []\n",
    "for i in list1:\n",
    "    list2.append(i)\n",
    "    print('i = ', i, ', list2=', list2)\n",
    "list2"
   ]
  },
  {
   "cell_type": "code",
   "execution_count": 22,
   "metadata": {},
   "outputs": [
    {
     "data": {
      "text/plain": [
       "['a', 'b', 'c', 'd']"
      ]
     },
     "execution_count": 22,
     "metadata": {},
     "output_type": "execute_result"
    }
   ],
   "source": [
    "list1 = [\"a\", \"b\", \"c\", \"d\"]\n",
    "\n",
    "list2 = []\n",
    "for i in list1:\n",
    "    list2.append(i)\n",
    "    #print('i = ', i, ', list2=', list2)\n",
    "list2"
   ]
  },
  {
   "cell_type": "code",
   "execution_count": 23,
   "metadata": {},
   "outputs": [],
   "source": [
    "def get_list(list1):\n",
    "    list2 = []\n",
    "    for i in list1:\n",
    "        list2.append(i)\n",
    "    return(list2)"
   ]
  },
  {
   "cell_type": "code",
   "execution_count": 24,
   "metadata": {},
   "outputs": [
    {
     "data": {
      "text/plain": [
       "['a', 'b', 'c', 'd']"
      ]
     },
     "execution_count": 24,
     "metadata": {},
     "output_type": "execute_result"
    }
   ],
   "source": [
    "listA = [\"a\", \"b\", \"c\", \"d\"]\n",
    "get_list(listA)"
   ]
  },
  {
   "cell_type": "code",
   "execution_count": 25,
   "metadata": {},
   "outputs": [
    {
     "name": "stdout",
     "output_type": "stream",
     "text": [
      "i =  [1, 2, 3, 4]\n",
      " j =  1 ,list4= [1]\n",
      " j =  2 ,list4= [1, 2]\n",
      " j =  3 ,list4= [1, 2, 3]\n",
      " j =  4 ,list4= [1, 2, 3, 4]\n",
      "i =  [5, 6, 7]\n",
      " j =  5 ,list4= [1, 2, 3, 4, 5]\n",
      " j =  6 ,list4= [1, 2, 3, 4, 5, 6]\n",
      " j =  7 ,list4= [1, 2, 3, 4, 5, 6, 7]\n",
      "i =  [8, 9, 10]\n",
      " j =  8 ,list4= [1, 2, 3, 4, 5, 6, 7, 8]\n",
      " j =  9 ,list4= [1, 2, 3, 4, 5, 6, 7, 8, 9]\n",
      " j =  10 ,list4= [1, 2, 3, 4, 5, 6, 7, 8, 9, 10]\n"
     ]
    },
    {
     "data": {
      "text/plain": [
       "[1, 2, 3, 4, 5, 6, 7, 8, 9, 10]"
      ]
     },
     "execution_count": 25,
     "metadata": {},
     "output_type": "execute_result"
    }
   ],
   "source": [
    "list3 = [[1, 2, 3, 4], [5, 6, 7], [8, 9, 10]]\n",
    "\n",
    "list4 = []\n",
    "for i in list3:\n",
    "    print('i = ', i)\n",
    "    for j in i:\n",
    "        list4.append(j)\n",
    "        print(' j = ', j, ',list4=', list4)\n",
    "list4"
   ]
  },
  {
   "cell_type": "code",
   "execution_count": 26,
   "metadata": {},
   "outputs": [
    {
     "data": {
      "text/plain": [
       "[1, 2, 3, 4, 5, 6, 7, 8, 9, 10]"
      ]
     },
     "execution_count": 26,
     "metadata": {},
     "output_type": "execute_result"
    }
   ],
   "source": [
    "list3 = [[1, 2, 3, 4], [5, 6, 7], [8, 9, 10]]\n",
    "\n",
    "list4 = []\n",
    "for i in list3:\n",
    "    #print('i = ', i)\n",
    "    for j in i:\n",
    "        list4.append(j)\n",
    "        #print(' j = ', j, ',list4=', list4)\n",
    "list4"
   ]
  },
  {
   "cell_type": "code",
   "execution_count": 27,
   "metadata": {},
   "outputs": [
    {
     "name": "stdout",
     "output_type": "stream",
     "text": [
      "i =  [0, 1, 2, 3]\n",
      "  j =  0 , list4= [0]\n",
      "  j =  1 , list4= [0, 1]\n",
      "  j =  2 , list4= [0, 1, 2]\n",
      "  j =  3 , list4= [0, 1, 2, 3]\n",
      "i =  4\n",
      " i =  4 , list4= [0, 1, 2, 3, 4]\n",
      "i =  [5, 6, 7]\n",
      "  j =  5 , list4= [0, 1, 2, 3, 4, 5]\n",
      "  j =  6 , list4= [0, 1, 2, 3, 4, 5, 6]\n",
      "  j =  7 , list4= [0, 1, 2, 3, 4, 5, 6, 7]\n",
      "i =  [8, 9]\n",
      "  j =  8 , list4= [0, 1, 2, 3, 4, 5, 6, 7, 8]\n",
      "  j =  9 , list4= [0, 1, 2, 3, 4, 5, 6, 7, 8, 9]\n",
      "i =  10\n",
      " i =  10 , list4= [0, 1, 2, 3, 4, 5, 6, 7, 8, 9, 10]\n"
     ]
    },
    {
     "data": {
      "text/plain": [
       "[0, 1, 2, 3, 4, 5, 6, 7, 8, 9, 10]"
      ]
     },
     "execution_count": 27,
     "metadata": {},
     "output_type": "execute_result"
    }
   ],
   "source": [
    "list5 = [[0, 1, 2, 3], 4, [5, 6, 7], [8, 9], 10]\n",
    "\n",
    "list6 = []\n",
    "for i in list5:\n",
    "    print('i = ',i)\n",
    "    if type(i) is int:\n",
    "        list6.append(i)\n",
    "        print(' i = ', i, ', list4=', list6)\n",
    "    else:\n",
    "        for j in i:\n",
    "            list6.append(j)\n",
    "            print('  j = ', j, ', list4=', list6)\n",
    "list6"
   ]
  },
  {
   "cell_type": "code",
   "execution_count": 28,
   "metadata": {},
   "outputs": [
    {
     "data": {
      "text/plain": [
       "[0, 1, 2, 3, 4, 5, 6, 7, 8, 9, 10]"
      ]
     },
     "execution_count": 28,
     "metadata": {},
     "output_type": "execute_result"
    }
   ],
   "source": [
    "list5 = [[0, 1, 2, 3], 4, [5, 6, 7], [8, 9], 10]\n",
    "\n",
    "list6 = []\n",
    "for i in list5:\n",
    "    #print('i = ',i)\n",
    "    if type(i) is int:\n",
    "        list6.append(i)\n",
    "        #print(' i = ', i, ', list4=', list6)\n",
    "    else:\n",
    "        for j in i:\n",
    "            list6.append(j)\n",
    "            #print('  j = ', j, ', list4=', list6)\n",
    "list6"
   ]
  },
  {
   "cell_type": "code",
   "execution_count": null,
   "metadata": {},
   "outputs": [],
   "source": []
  },
  {
   "cell_type": "code",
   "execution_count": null,
   "metadata": {},
   "outputs": [],
   "source": []
  }
 ],
 "metadata": {
  "kernelspec": {
   "display_name": "Python 3",
   "language": "python",
   "name": "python3"
  },
  "language_info": {
   "codemirror_mode": {
    "name": "ipython",
    "version": 3
   },
   "file_extension": ".py",
   "mimetype": "text/x-python",
   "name": "python",
   "nbconvert_exporter": "python",
   "pygments_lexer": "ipython3",
   "version": "3.8.3"
  }
 },
 "nbformat": 4,
 "nbformat_minor": 4
}
